{
 "cells": [
  {
   "cell_type": "code",
   "id": "initial_id",
   "metadata": {
    "collapsed": true,
    "ExecuteTime": {
     "end_time": "2024-08-13T21:24:16.187785Z",
     "start_time": "2024-08-13T21:24:16.179434Z"
    }
   },
   "source": [
    "import networkx as nx\n",
    "\n",
    "# Path to the .graphml file\n",
    "file_path = '../go-viz/emerge-file_result_dependency_graph.graphml'\n",
    "\n",
    "# Read the .graphml file\n",
    "G = nx.read_graphml(file_path)\n",
    "\n",
    "# Display basic information about the graph\n",
    "list(G.nodes)"
   ],
   "outputs": [
    {
     "data": {
      "text/plain": [
       "['patterns-go/architectures/eda/cheesy-events/cheesy-events.go',\n",
       " 'time',\n",
       " 'cheesy-events/delivery',\n",
       " 'cheesy-events/eventbus',\n",
       " 'cheesy-events/kitchen',\n",
       " 'cheesy-events/orders',\n",
       " 'patterns-go/architectures/eda/cheesy-events/eventbus/eventbus.go',\n",
       " 'patterns-go/architectures/eda/cheesy-events/delivery/service.go',\n",
       " 'fmt',\n",
       " 'patterns-go/architectures/eda/cheesy-events/orders/service.go',\n",
       " 'patterns-go/architectures/eda/cheesy-events/kitchen/kitchen.go',\n",
       " 'patterns-go/creational/factory-method/NormalGun.go',\n",
       " 'patterns-go/creational/factory-method/GunFactory.go',\n",
       " 'patterns-go/creational/factory-method/Musket.go',\n",
       " 'patterns-go/creational/factory-method/IGun.go',\n",
       " 'patterns-go/creational/factory-method/Ak47.go',\n",
       " 'patterns-go/creational/factory-method/main.go',\n",
       " 'patterns-go/creational/prototype/shapes/circle.go',\n",
       " 'math',\n",
       " 'patterns-go/creational/prototype/shapes/shape.go',\n",
       " 'patterns-go/creational/prototype/shapes/rectangle.go',\n",
       " 'patterns-go/creational/prototype/shapes/main.go',\n",
       " 'patterns-go/creational/prototype/file-system/inode.go',\n",
       " 'patterns-go/creational/prototype/file-system/folder.go',\n",
       " 'patterns-go/creational/prototype/file-system/file.go',\n",
       " 'patterns-go/creational/prototype/file-system/main.go',\n",
       " 'patterns-go/creational/prototype/characters/characters.go',\n",
       " 'patterns-go/creational/singleton/database.go',\n",
       " 'sync',\n",
       " 'patterns-go/creational/singleton/database_test.go',\n",
       " 'testing',\n",
       " 'patterns-go/creational/singleton/main.go',\n",
       " 'patterns-go/creational/abstract-factory/concrete-factory-nike.go',\n",
       " 'patterns-go/creational/abstract-factory/ishirt.go',\n",
       " 'patterns-go/creational/abstract-factory/isports-factory.go',\n",
       " 'patterns-go/creational/abstract-factory/ishoe.go',\n",
       " 'patterns-go/creational/abstract-factory/concrete-factory-adidas.go',\n",
       " 'patterns-go/creational/abstract-factory/main.go',\n",
       " 'patterns-go/behavioral/observer/football-match.go',\n",
       " 'patterns-go/behavioral/state/vending-machine/item-requested-state.go',\n",
       " 'patterns-go/behavioral/state/vending-machine/vending-machine.go',\n",
       " 'patterns-go/behavioral/state/vending-machine/has-money-state.go',\n",
       " 'patterns-go/behavioral/state/vending-machine/state.go',\n",
       " 'patterns-go/behavioral/state/vending-machine/no-item-state.go',\n",
       " 'patterns-go/behavioral/state/vending-machine/has-item-state.go',\n",
       " 'patterns-go/behavioral/state/vending-machine/main.go',\n",
       " 'log',\n",
       " 'patterns-go/behavioral/command/remote-control.go',\n",
       " 'patterns-go/behavioral/strategy/cache/eviction-algorithm.go',\n",
       " 'patterns-go/behavioral/strategy/cache/fifo.go',\n",
       " 'patterns-go/behavioral/strategy/cache/cache.go',\n",
       " 'patterns-go/behavioral/strategy/cache/lfu.go',\n",
       " 'patterns-go/behavioral/strategy/cache/lru.go',\n",
       " 'patterns-go/behavioral/strategy/cache/main.go',\n",
       " 'patterns-go/concurrency/worker-pool/http-server/http_server.go',\n",
       " 'net/http',\n",
       " 'patterns-go/concurrency/buffered-channels/locker-room/locker_room.go',\n",
       " 'math/rand',\n",
       " 'patterns-go/structural/decorator/data-source.go',\n",
       " 'patterns-go/structural/decorator/cmd.go',\n",
       " 'patterns-go/structural/decorator/encryption-decorator.go',\n",
       " 'patterns-go/structural/decorator/file-data-source.go',\n",
       " 'patterns-go/structural/decorator/compression-decorator.go',\n",
       " 'patterns-go/mixes/home-control-system/eco-mode.go',\n",
       " 'patterns-go/mixes/home-control-system/presence-sensor.go',\n",
       " 'patterns-go/mixes/home-control-system/clock.go',\n",
       " 'patterns-go/mixes/home-control-system/afternoon-mode.go',\n",
       " 'patterns-go/mixes/home-control-system/party-mode.go',\n",
       " 'patterns-go/mixes/home-control-system/state.go',\n",
       " 'patterns-go/mixes/home-control-system/home-control-system.go',\n",
       " 'patterns-go/mixes/home-control-system/nigth-mode.go',\n",
       " 'patterns-go/mixes/home-control-system/main.go',\n",
       " 'patterns-go/mixes/home-control-system/morning-mode.go',\n",
       " 'patterns-go/mixes/drone-fleet/playground.go',\n",
       " 'patterns-go/mixes/drone-fleet/fixed-wing.go',\n",
       " 'patterns-go/mixes/drone-fleet/remote-control.go',\n",
       " 'patterns-go/mixes/drone-fleet/features.go',\n",
       " 'patterns-go/mixes/drone-fleet/drone-registry.go',\n",
       " 'patterns-go/mixes/drone-fleet/hexacopter.go',\n",
       " 'patterns-go/mixes/drone-fleet/quadcopter.go']"
      ]
     },
     "execution_count": 26,
     "metadata": {},
     "output_type": "execute_result"
    }
   ],
   "execution_count": 26
  },
  {
   "metadata": {
    "ExecuteTime": {
     "end_time": "2024-08-13T21:24:18.112932Z",
     "start_time": "2024-08-13T21:24:18.109405Z"
    }
   },
   "cell_type": "code",
   "source": "G['time']",
   "id": "c239e84c5646022a",
   "outputs": [
    {
     "data": {
      "text/plain": [
       "AtlasView({})"
      ]
     },
     "execution_count": 27,
     "metadata": {},
     "output_type": "execute_result"
    }
   ],
   "execution_count": 27
  },
  {
   "metadata": {
    "ExecuteTime": {
     "end_time": "2024-08-13T21:23:17.416612Z",
     "start_time": "2024-08-13T21:23:17.415296Z"
    }
   },
   "cell_type": "code",
   "source": "",
   "id": "403a759cf8eca37f",
   "outputs": [],
   "execution_count": 22
  },
  {
   "metadata": {},
   "cell_type": "code",
   "outputs": [],
   "execution_count": null,
   "source": "",
   "id": "ac8412578817e89f"
  }
 ],
 "metadata": {
  "kernelspec": {
   "display_name": "Python 3",
   "language": "python",
   "name": "python3"
  },
  "language_info": {
   "codemirror_mode": {
    "name": "ipython",
    "version": 2
   },
   "file_extension": ".py",
   "mimetype": "text/x-python",
   "name": "python",
   "nbconvert_exporter": "python",
   "pygments_lexer": "ipython2",
   "version": "2.7.6"
  }
 },
 "nbformat": 4,
 "nbformat_minor": 5
}
