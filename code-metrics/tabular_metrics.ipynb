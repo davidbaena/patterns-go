{
 "cells": [
  {
   "cell_type": "code",
   "id": "initial_id",
   "metadata": {
    "collapsed": true,
    "ExecuteTime": {
     "end_time": "2024-08-13T23:08:00.604446Z",
     "start_time": "2024-08-13T23:08:00.371219Z"
    }
   },
   "source": [
    "import pandas as pd\n",
    "\n",
    "df = pd.read_csv('dataset_main_metrics.csv')"
   ],
   "outputs": [],
   "execution_count": 1
  },
  {
   "metadata": {
    "ExecuteTime": {
     "end_time": "2024-08-13T23:08:06.156685Z",
     "start_time": "2024-08-13T23:08:06.143812Z"
    }
   },
   "cell_type": "code",
   "source": "df.describe()",
   "id": "9913a2ca3d06dc48",
   "outputs": [
    {
     "data": {
      "text/plain": [
       "       number-of-methods-in-file  sloc-in-file  \\\n",
       "count                  69.000000     69.000000   \n",
       "mean                    3.014493     25.391304   \n",
       "std                     2.529199     18.872808   \n",
       "min                     0.000000      1.000000   \n",
       "25%                     1.000000     14.000000   \n",
       "50%                     3.000000     21.000000   \n",
       "75%                     4.000000     33.000000   \n",
       "max                    11.000000     96.000000   \n",
       "\n",
       "       file_result_dependency_graph_louvain-modularity-in-file  \\\n",
       "count                                          81.000000         \n",
       "mean                                            8.419753         \n",
       "std                                            10.789884         \n",
       "min                                             0.000000         \n",
       "25%                                             0.000000         \n",
       "50%                                             3.000000         \n",
       "75%                                            15.000000         \n",
       "max                                            35.000000         \n",
       "\n",
       "       fan-in-dependency-graph  fan-out-dependency-graph  \n",
       "count                81.000000                 81.000000  \n",
       "mean                  0.753086                  0.753086  \n",
       "std                   3.676040                  1.055117  \n",
       "min                   0.000000                  0.000000  \n",
       "25%                   0.000000                  0.000000  \n",
       "50%                   0.000000                  0.000000  \n",
       "75%                   0.000000                  1.000000  \n",
       "max                  31.000000                  5.000000  "
      ],
      "text/html": [
       "<div>\n",
       "<style scoped>\n",
       "    .dataframe tbody tr th:only-of-type {\n",
       "        vertical-align: middle;\n",
       "    }\n",
       "\n",
       "    .dataframe tbody tr th {\n",
       "        vertical-align: top;\n",
       "    }\n",
       "\n",
       "    .dataframe thead th {\n",
       "        text-align: right;\n",
       "    }\n",
       "</style>\n",
       "<table border=\"1\" class=\"dataframe\">\n",
       "  <thead>\n",
       "    <tr style=\"text-align: right;\">\n",
       "      <th></th>\n",
       "      <th>number-of-methods-in-file</th>\n",
       "      <th>sloc-in-file</th>\n",
       "      <th>file_result_dependency_graph_louvain-modularity-in-file</th>\n",
       "      <th>fan-in-dependency-graph</th>\n",
       "      <th>fan-out-dependency-graph</th>\n",
       "    </tr>\n",
       "  </thead>\n",
       "  <tbody>\n",
       "    <tr>\n",
       "      <th>count</th>\n",
       "      <td>69.000000</td>\n",
       "      <td>69.000000</td>\n",
       "      <td>81.000000</td>\n",
       "      <td>81.000000</td>\n",
       "      <td>81.000000</td>\n",
       "    </tr>\n",
       "    <tr>\n",
       "      <th>mean</th>\n",
       "      <td>3.014493</td>\n",
       "      <td>25.391304</td>\n",
       "      <td>8.419753</td>\n",
       "      <td>0.753086</td>\n",
       "      <td>0.753086</td>\n",
       "    </tr>\n",
       "    <tr>\n",
       "      <th>std</th>\n",
       "      <td>2.529199</td>\n",
       "      <td>18.872808</td>\n",
       "      <td>10.789884</td>\n",
       "      <td>3.676040</td>\n",
       "      <td>1.055117</td>\n",
       "    </tr>\n",
       "    <tr>\n",
       "      <th>min</th>\n",
       "      <td>0.000000</td>\n",
       "      <td>1.000000</td>\n",
       "      <td>0.000000</td>\n",
       "      <td>0.000000</td>\n",
       "      <td>0.000000</td>\n",
       "    </tr>\n",
       "    <tr>\n",
       "      <th>25%</th>\n",
       "      <td>1.000000</td>\n",
       "      <td>14.000000</td>\n",
       "      <td>0.000000</td>\n",
       "      <td>0.000000</td>\n",
       "      <td>0.000000</td>\n",
       "    </tr>\n",
       "    <tr>\n",
       "      <th>50%</th>\n",
       "      <td>3.000000</td>\n",
       "      <td>21.000000</td>\n",
       "      <td>3.000000</td>\n",
       "      <td>0.000000</td>\n",
       "      <td>0.000000</td>\n",
       "    </tr>\n",
       "    <tr>\n",
       "      <th>75%</th>\n",
       "      <td>4.000000</td>\n",
       "      <td>33.000000</td>\n",
       "      <td>15.000000</td>\n",
       "      <td>0.000000</td>\n",
       "      <td>1.000000</td>\n",
       "    </tr>\n",
       "    <tr>\n",
       "      <th>max</th>\n",
       "      <td>11.000000</td>\n",
       "      <td>96.000000</td>\n",
       "      <td>35.000000</td>\n",
       "      <td>31.000000</td>\n",
       "      <td>5.000000</td>\n",
       "    </tr>\n",
       "  </tbody>\n",
       "</table>\n",
       "</div>"
      ]
     },
     "execution_count": 2,
     "metadata": {},
     "output_type": "execute_result"
    }
   ],
   "execution_count": 2
  },
  {
   "metadata": {
    "ExecuteTime": {
     "end_time": "2024-08-13T23:08:55.334835Z",
     "start_time": "2024-08-13T23:08:50.449048Z"
    }
   },
   "cell_type": "code",
   "source": [
    "## analyze with sweetviz\n",
    "import sweetviz as sv\n",
    "report = sv.analyze(df)\n",
    "report.show_html('report.html')\n"
   ],
   "id": "9b3af2c8ff709c51",
   "outputs": [
    {
     "data": {
      "text/plain": [
       "                                             |          | [  0%]   00:00 -> (? left)"
      ],
      "application/vnd.jupyter.widget-view+json": {
       "version_major": 2,
       "version_minor": 0,
       "model_id": "f770c6a45f784c2998cd5b808c29fdf6"
      }
     },
     "metadata": {},
     "output_type": "display_data"
    },
    {
     "name": "stdout",
     "output_type": "stream",
     "text": [
      "Report report.html was generated! NOTEBOOK/COLAB USERS: the web browser MAY not pop up, regardless, the report IS saved in your notebook/colab files.\n"
     ]
    }
   ],
   "execution_count": 3
  },
  {
   "metadata": {},
   "cell_type": "code",
   "outputs": [],
   "execution_count": null,
   "source": "",
   "id": "910aff0a7a282f60"
  }
 ],
 "metadata": {
  "kernelspec": {
   "display_name": "Python 3",
   "language": "python",
   "name": "python3"
  },
  "language_info": {
   "codemirror_mode": {
    "name": "ipython",
    "version": 2
   },
   "file_extension": ".py",
   "mimetype": "text/x-python",
   "name": "python",
   "nbconvert_exporter": "python",
   "pygments_lexer": "ipython2",
   "version": "2.7.6"
  }
 },
 "nbformat": 4,
 "nbformat_minor": 5
}
